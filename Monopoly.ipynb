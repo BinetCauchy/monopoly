{
 "cells": [
  {
   "cell_type": "markdown",
   "metadata": {},
   "source": [
    "# Monopoly i kako pobjediti"
   ]
  },
  {
   "cell_type": "markdown",
   "metadata": {},
   "source": [
    "Ako igramo Monopoly znamo da osim kupnje i prodaje ima i puno bacanja kockica. Imamo dvije kockice, pa idemo vidjeti kako izgleda bacanje kockica."
   ]
  },
  {
   "cell_type": "markdown",
   "metadata": {},
   "source": [
    "Uvedimo funkciju koja simulira bacanje, funkciju koja simulira više bacanja kockica i funkciju koja će te rezultate upisat u neku listu."
   ]
  },
  {
   "cell_type": "code",
   "execution_count": 1,
   "metadata": {},
   "outputs": [],
   "source": [
    "import random\n",
    "\n",
    "def jedno_bacanje():\n",
    "    kockica_1 = random.randint(1, 6)\n",
    "    kockica_2 = random.randint(1, 6)\n",
    "    return kockica_1 + kockica_2\n",
    "\n",
    "def bacanje_kockica(broj_bacanja):\n",
    "    popis_rezultata_bacanja=[]\n",
    "    for i in range(broj_bacanja):\n",
    "        rezultat_bacanja = jedno_bacanje()\n",
    "        popis_rezultata_bacanja.append(rezultat_bacanja)\n",
    "    return popis_rezultata_bacanja\n",
    "\n",
    "def lista_dobivenih_brojeva_bacanjem(popis_rezultata_bacanja):\n",
    "    lista_dobivenih_bacanja=[]\n",
    "    for i in range(2,13):\n",
    "        lista_dobivenih_bacanja.append(popis_rezultata_bacanja.count(i))\n",
    "    \n",
    "    return lista_dobivenih_bacanja"
   ]
  },
  {
   "cell_type": "markdown",
   "metadata": {},
   "source": [
    "Sada kada imamo te funkcije možemo napraviti dataframe i napuniti ga sa sljedećim podacima:\n",
    "* index će nam biti broj koji možemo dobiti kada bacamo 2 kockice\n",
    "* Broj dobivenih bacanja je koliko puta dobijemo koji broj nakon bacanja dvije kockice na 100 tisuća bacanja\n",
    "* Broj kombinacija je baš to, broj kombinacija kockica koji nam donosi određeni broj (npr. 4 možemo dobiti na 3 načina, a to su 1 i 3, 2 i 2, 3 i 1)\n",
    "* i za kraj imamo postotke tih dvaju brojeva"
   ]
  },
  {
   "cell_type": "code",
   "execution_count": 2,
   "metadata": {},
   "outputs": [
    {
     "data": {
      "text/html": [
       "<div>\n",
       "<style scoped>\n",
       "    .dataframe tbody tr th:only-of-type {\n",
       "        vertical-align: middle;\n",
       "    }\n",
       "\n",
       "    .dataframe tbody tr th {\n",
       "        vertical-align: top;\n",
       "    }\n",
       "\n",
       "    .dataframe thead th {\n",
       "        text-align: right;\n",
       "    }\n",
       "</style>\n",
       "<table border=\"1\" class=\"dataframe\">\n",
       "  <thead>\n",
       "    <tr style=\"text-align: right;\">\n",
       "      <th></th>\n",
       "      <th>Broj dobivenih bacanja</th>\n",
       "      <th>Broj kombinacija</th>\n",
       "      <th>Postotak dobivenih bacanja</th>\n",
       "      <th>Postotak kombinacija</th>\n",
       "    </tr>\n",
       "  </thead>\n",
       "  <tbody>\n",
       "    <tr>\n",
       "      <th>2</th>\n",
       "      <td>2772</td>\n",
       "      <td>1</td>\n",
       "      <td>2.772</td>\n",
       "      <td>2.777778</td>\n",
       "    </tr>\n",
       "    <tr>\n",
       "      <th>3</th>\n",
       "      <td>5658</td>\n",
       "      <td>2</td>\n",
       "      <td>5.658</td>\n",
       "      <td>5.555556</td>\n",
       "    </tr>\n",
       "    <tr>\n",
       "      <th>4</th>\n",
       "      <td>8320</td>\n",
       "      <td>3</td>\n",
       "      <td>8.320</td>\n",
       "      <td>8.333333</td>\n",
       "    </tr>\n",
       "    <tr>\n",
       "      <th>5</th>\n",
       "      <td>11264</td>\n",
       "      <td>4</td>\n",
       "      <td>11.264</td>\n",
       "      <td>11.111111</td>\n",
       "    </tr>\n",
       "    <tr>\n",
       "      <th>6</th>\n",
       "      <td>13802</td>\n",
       "      <td>5</td>\n",
       "      <td>13.802</td>\n",
       "      <td>13.888889</td>\n",
       "    </tr>\n",
       "    <tr>\n",
       "      <th>7</th>\n",
       "      <td>16614</td>\n",
       "      <td>6</td>\n",
       "      <td>16.614</td>\n",
       "      <td>16.666667</td>\n",
       "    </tr>\n",
       "    <tr>\n",
       "      <th>8</th>\n",
       "      <td>13937</td>\n",
       "      <td>5</td>\n",
       "      <td>13.937</td>\n",
       "      <td>13.888889</td>\n",
       "    </tr>\n",
       "    <tr>\n",
       "      <th>9</th>\n",
       "      <td>11125</td>\n",
       "      <td>4</td>\n",
       "      <td>11.125</td>\n",
       "      <td>11.111111</td>\n",
       "    </tr>\n",
       "    <tr>\n",
       "      <th>10</th>\n",
       "      <td>8264</td>\n",
       "      <td>3</td>\n",
       "      <td>8.264</td>\n",
       "      <td>8.333333</td>\n",
       "    </tr>\n",
       "    <tr>\n",
       "      <th>11</th>\n",
       "      <td>5547</td>\n",
       "      <td>2</td>\n",
       "      <td>5.547</td>\n",
       "      <td>5.555556</td>\n",
       "    </tr>\n",
       "    <tr>\n",
       "      <th>12</th>\n",
       "      <td>2697</td>\n",
       "      <td>1</td>\n",
       "      <td>2.697</td>\n",
       "      <td>2.777778</td>\n",
       "    </tr>\n",
       "  </tbody>\n",
       "</table>\n",
       "</div>"
      ],
      "text/plain": [
       "    Broj dobivenih bacanja  Broj kombinacija  Postotak dobivenih bacanja  \\\n",
       "2                     2772                 1                       2.772   \n",
       "3                     5658                 2                       5.658   \n",
       "4                     8320                 3                       8.320   \n",
       "5                    11264                 4                      11.264   \n",
       "6                    13802                 5                      13.802   \n",
       "7                    16614                 6                      16.614   \n",
       "8                    13937                 5                      13.937   \n",
       "9                    11125                 4                      11.125   \n",
       "10                    8264                 3                       8.264   \n",
       "11                    5547                 2                       5.547   \n",
       "12                    2697                 1                       2.697   \n",
       "\n",
       "    Postotak kombinacija  \n",
       "2               2.777778  \n",
       "3               5.555556  \n",
       "4               8.333333  \n",
       "5              11.111111  \n",
       "6              13.888889  \n",
       "7              16.666667  \n",
       "8              13.888889  \n",
       "9              11.111111  \n",
       "10              8.333333  \n",
       "11              5.555556  \n",
       "12              2.777778  "
      ]
     },
     "execution_count": 2,
     "metadata": {},
     "output_type": "execute_result"
    }
   ],
   "source": [
    "import pandas as pd\n",
    "\n",
    "tablica_bacanja_kockica = pd.DataFrame(index=['2', '3', '4', '5', '6', '7', '8', '9', '10', '11', '12'])\n",
    "tablica_bacanja_kockica['Broj dobivenih bacanja'] = lista_dobivenih_brojeva_bacanjem(bacanje_kockica(100000))\n",
    "tablica_bacanja_kockica['Broj kombinacija'] = [1, 2, 3, 4, 5, 6, 5, 4, 3, 2, 1]\n",
    "tablica_bacanja_kockica['Postotak dobivenih bacanja'] = tablica_bacanja_kockica['Broj dobivenih bacanja']/1000\n",
    "tablica_bacanja_kockica['Postotak kombinacija'] = tablica_bacanja_kockica['Broj kombinacija']/36*100\n",
    "tablica_bacanja_kockica"
   ]
  },
  {
   "cell_type": "markdown",
   "metadata": {},
   "source": [
    "Ako stavimo te brojeva u dva grafa tako da je u jednom postotak dobivenih bacanja, a u drugoj postotak kombinacija, te bi htjeli dobiti skoro pa identični graf, a kao što vidimo gore iz tablice i dolje iz slike, ta dva grafa su vrlo slična"
   ]
  },
  {
   "cell_type": "code",
   "execution_count": 3,
   "metadata": {},
   "outputs": [
    {
     "data": {
      "image/png": "[encoded data removed]",
      "text/plain": [
       "<Figure size 864x360 with 2 Axes>"
      ]
     },
     "metadata": {
      "needs_background": "light"
     },
     "output_type": "display_data"
    }
   ],
   "source": [
    "import matplotlib.pyplot as plt\n",
    "\n",
    "fig, (ax1, ax2) = plt.subplots(1, 2)\n",
    "ax1.set_title('Postotak dobivenih bacanja')\n",
    "ax2.set_title('Postotak kombinacija')\n",
    "ax1.set_xlabel('Broj na kockici')\n",
    "ax2.set_xlabel('Broj na kockici')\n",
    "ax1.set_ylabel('Postotak')\n",
    "ax2.set_ylabel('Postotak')\n",
    "tablica_bacanja_kockica['Postotak dobivenih bacanja'].plot(kind='bar', rot=0, ax=ax1, figsize=(12,5))\n",
    "tablica_bacanja_kockica['Postotak kombinacija'].plot(kind='bar', rot=0, ax=ax2, figsize=(12,5))\n",
    "plt.show()\n"
   ]
  },
  {
   "cell_type": "markdown",
   "metadata": {},
   "source": [
    "Učitajmo csv file gdje imamo sve podatke s Monopoly ploče te zatim obrišimo one koji nam trenutno ne trebaju."
   ]
  },
  {
   "cell_type": "code",
   "execution_count": 4,
   "metadata": {},
   "outputs": [],
   "source": [
    "monopoly_board = pd.read_csv('monopoly_board.csv', encoding='utf-8')"
   ]
  },
  {
   "cell_type": "code",
   "execution_count": 5,
   "metadata": {},
   "outputs": [],
   "source": [
    "del monopoly_board['Space'], monopoly_board['Position'], monopoly_board['Price'], monopoly_board['PriceBuild'], monopoly_board['Rent'], monopoly_board['RentBuild1'], monopoly_board['RentBuild2'], monopoly_board['RentBuild3'], monopoly_board['RentBuild4'], monopoly_board['RentBuild5'], monopoly_board['Number']"
   ]
  },
  {
   "cell_type": "markdown",
   "metadata": {},
   "source": [
    "Jedna partija je odprilike 50 bacanja jednog igrača. Ponovimo to 10000 puta da vidimo na koje polje bi najčešće stali igrači."
   ]
  },
  {
   "cell_type": "code",
   "execution_count": 6,
   "metadata": {},
   "outputs": [
    {
     "data": {
      "text/plain": [
       "array([11937, 11779, 11982, 12196, 12566, 12769, 13324, 13488, 13248,\n",
       "       13092, 12927, 12884, 12829, 13006, 12661, 12798, 12828, 12798,\n",
       "       12790, 12672, 12470, 12608, 12557, 12468, 12432, 12432, 12520,\n",
       "       12505, 12117, 12277, 12331, 12327, 12085, 12110, 12127, 11921,\n",
       "       11956, 12036, 12068, 12079])"
      ]
     },
     "execution_count": 6,
     "metadata": {},
     "output_type": "execute_result"
    }
   ],
   "source": [
    "import numpy as np\n",
    "\n",
    "najcesce_polje = np.empty(40, dtype=np.int32)\n",
    "najcesce_polje.fill(0)\n",
    "\n",
    "for i in range(10000):\n",
    "    trenutno_mjesto=0\n",
    "    for j in range(50):\n",
    "        trenutno_mjesto = trenutno_mjesto + jedno_bacanje()\n",
    "        if trenutno_mjesto>39:\n",
    "            trenutno_mjesto = trenutno_mjesto % 40\n",
    "        najcesce_polje[trenutno_mjesto] = najcesce_polje[trenutno_mjesto] + 1\n",
    "    \n",
    "najcesce_polje"
   ]
  },
  {
   "cell_type": "markdown",
   "metadata": {},
   "source": [
    "No, ovo nije baš točno i precizno. Znamo da u monopolyju postoje različiti načini za doć na neko polje osim random bacanja kockica, pa uzmimo sada i to u obzir."
   ]
  },
  {
   "cell_type": "markdown",
   "metadata": {},
   "source": [
    "Imamo Chance kartice, gdje nas 9/16 kartica šalje na neko drugo polje. Napravimo funkciju za izvlačenje kartice."
   ]
  },
  {
   "cell_type": "code",
   "execution_count": 7,
   "metadata": {},
   "outputs": [],
   "source": [
    "def chance_cards(pozicija, trenutne_karte):\n",
    "    \n",
    "    #ako smo izvukli sve karte moramo ih promiješati opet\n",
    "    if not trenutne_karte:\n",
    "        trenutne_karte = ['Advance to Go', 'Illinois', 'St. Charles Place', 'nearest Utility', \n",
    "                          'nearest Railroad', 'Go Back Three', 'Go to Jail', 'Reading Railroad', \n",
    "                          'Boardwalk', 'Nista', 'Nista', 'Nista', 'Nista', 'Nista', 'Nista', 'Nista']\n",
    "    \n",
    "    #izvlačimo kartu\n",
    "    random_karta = random.choice(trenutne_karte)\n",
    "    \n",
    "    #Advance to \"Go\"\n",
    "    if random_karta == 'Advance to Go':\n",
    "        pozicija = 0\n",
    "        trenutne_karte.remove('Advance to Go')\n",
    "    #Advance to Illinois Ave.\n",
    "    if random_karta == 'Illinois':\n",
    "        pozicija = 24\n",
    "        trenutne_karte.remove('Illinois')\n",
    "    #Advance to St. Charles Place\n",
    "    if random_karta == 'St. Charles Place':\n",
    "        pozicija = 11\n",
    "        trenutne_karte.remove('St. Charles Place')\n",
    "    #Advance token to nearest Utility\n",
    "    if random_karta == 'nearest Utility':\n",
    "        if pozicija == 7: pozicija = 15\n",
    "        if pozicija == 22: pozicija = 25\n",
    "        if pozicija == 36: pozicija = 5\n",
    "        trenutne_karte.remove('nearest Utility')\n",
    "    #Advance token to the nearest Railroad\n",
    "    if random_karta == 'nearest Railroad':\n",
    "        if pozicija == 7: pozicija = 12\n",
    "        if pozicija == 22: pozicija = 28\n",
    "        trenutne_karte.remove('nearest Railroad')\n",
    "    #Go Back Three {3} Spaces\n",
    "    if random_karta == 'Go Back Three':\n",
    "        pozicija = pozicija - 3\n",
    "        trenutne_karte.remove('Go Back Three')\n",
    "    #Go to Jail. Go directly to Jail\n",
    "    if random_karta == 'Go to Jail':\n",
    "        pozicija = 30\n",
    "        trenutne_karte.remove('Go to Jail')\n",
    "    #Take a trip to Reading Railroad\n",
    "    if random_karta == 'Reading Railroad':\n",
    "        pozicija = 5\n",
    "        trenutne_karte.remove('Reading Railroad')\n",
    "    #Take a walk on the Boardwalk. Advance token to Boardwalk.\n",
    "    if random_karta == 'Boardwalk':\n",
    "        pozicija = 39\n",
    "        trenutne_karte.remove('Boardwalk')\n",
    "    #izvućena neka druga karta\n",
    "    if random_karta == 'Nista':\n",
    "        trenutne_karte.remove('Nista')\n",
    "    \n",
    "    return pozicija       "
   ]
  },
  {
   "cell_type": "markdown",
   "metadata": {},
   "source": [
    "Imamo i Chest kartice, gdje nas ovaj put samo 2/16 kartica šalje na neko drugo polje. Napravimo funkciju za izvlačenje kartice."
   ]
  },
  {
   "cell_type": "code",
   "execution_count": 8,
   "metadata": {},
   "outputs": [],
   "source": [
    "def chest_cards(pozicija, trenutne_karte):\n",
    "    \n",
    "    #ako smo izvukli sve karte moramo ih promiješati opet\n",
    "    if not trenutne_karte:\n",
    "        trenutne_karte = ['Advance to Go', 'Go to Jail', 'Nista', 'Nista', 'Nista', 'Nista', 'Nista', 'Nista', \n",
    "                        'Nista', 'Nista', 'Nista', 'Nista', 'Nista', 'Nista', 'Nista', 'Nista']\n",
    "    \n",
    "    #izvlačimo kartu\n",
    "    random_karta = random.choice(trenutne_karte)\n",
    "        \n",
    "    #Advance to Go\n",
    "    if random_karta == 'Advance to Go':\n",
    "        pozicija = 0\n",
    "        trenutne_karte.remove('Advance to Go')\n",
    "    #Go to Jail\n",
    "    if random_karta == 'Go to Jail':\n",
    "        pozicija = 30\n",
    "        trenutne_karte.remove('Go to Jail')\n",
    "    #izvućena neka druga karta\n",
    "    if random_karta == 'Nista':\n",
    "        trenutne_karte.remove('Nista')\n",
    "        \n",
    "    return pozicija  "
   ]
  },
  {
   "cell_type": "markdown",
   "metadata": {},
   "source": [
    "Sada možemo simulirati prave partije i pratiti gdje će igrač biti na kraju svoga kruga. \n",
    "Također, kako bi razlikovali polje broj 10, takozvani Zatvor i Posjete na istom mjestu. Zatvor će nam zapravo biti na polju 'Go to Jail'."
   ]
  },
  {
   "cell_type": "code",
   "execution_count": 9,
   "metadata": {},
   "outputs": [
    {
     "data": {
      "text/plain": [
       "array([14985, 10416,  9491, 11113, 12128, 14865, 12432,  5445, 12786,\n",
       "       12499, 12148, 14290, 14029, 11900, 13628, 13797, 14811, 12306,\n",
       "       15321, 14901, 15066, 13932,  7371, 13601, 15826, 14436, 13445,\n",
       "       13392, 13909, 13050, 19793, 13275, 12739, 11619, 12187, 11833,\n",
       "        5545, 10630, 10532, 12685])"
      ]
     },
     "execution_count": 9,
     "metadata": {},
     "output_type": "execute_result"
    }
   ],
   "source": [
    "najcesce_polje_napredno = np.empty(40, dtype=np.int32)\n",
    "najcesce_polje_napredno.fill(0)\n",
    "\n",
    "for i in range(10000):\n",
    "    #počinjemo s prvog polja\n",
    "    trenutno_mjesto=0\n",
    "    \n",
    "    #pamti ako dobijemo 2 ista broja na bacanju, 3 puta tako i u zatvor\n",
    "    dva_ista=0\n",
    "    \n",
    "    #sve chest kartice\n",
    "    trenutne_chest_cards = ['Advance to Go', 'Go to Jail', 'Nista', 'Nista', 'Nista', 'Nista', 'Nista', 'Nista', \n",
    "                            'Nista', 'Nista', 'Nista', 'Nista', 'Nista', 'Nista', 'Nista', 'Nista']\n",
    "    \n",
    "    #sve chest kartice\n",
    "    trenutne_chance_cards = ['Advance to Go', 'Illinois', 'St. Charles Place', 'nearest Utility', \n",
    "                              'nearest Railroad', 'Go Back Three', 'Go to Jail', 'Reading Railroad', \n",
    "                              'Boardwalk', 'Nista', 'Nista', 'Nista', 'Nista', 'Nista', 'Nista', 'Nista']\n",
    "    \n",
    "    #simulacija jednog igrača u jednoj partiji\n",
    "    for j in range(50):\n",
    "        #ako smo završili u zatvoru, krećemo dalje s drugog mjesta\n",
    "        if trenutno_mjesto == 30:\n",
    "            trenutno_mjesto = 10\n",
    "            #također, češće ćemo iz zatvora izać sa parnim brojevima, imamo 3 bacanja\n",
    "            for k in range(3):\n",
    "                kockica_1 = random.randint(1, 6)\n",
    "                kockica_2 = random.randint(1, 6)\n",
    "                if kockica_1 == kockica_2:\n",
    "                    trenutno_mjesto = trenutno_mjesto + kockica_1 + kockica_2\n",
    "                    if trenutno_mjesto > 39:\n",
    "                        trenutno_mjesto = trenutno_mjesto % 40\n",
    "                    najcesce_polje_napredno[trenutno_mjesto] = najcesce_polje_napredno[trenutno_mjesto] + 1\n",
    "                    break\n",
    "            \n",
    "        #bacanje kockica, 3 puta za redom 2 ista broja, idemo u zatvor\n",
    "        kockica_1 = random.randint(1, 6)\n",
    "        kockica_2 = random.randint(1, 6)\n",
    "        if kockica_1 == kockica_2:\n",
    "            dva_ista = dva_ista + 1\n",
    "        else: dva_ista = 0\n",
    "        \n",
    "        if dva_ista == 3:\n",
    "            dva_ista = 0\n",
    "            trenutno_mjesto = 30\n",
    "        else:\n",
    "            #pomičemo se onoliko koliko dobijemo na bacanju\n",
    "            trenutno_mjesto = trenutno_mjesto + kockica_1 + kockica_2\n",
    "        \n",
    "        #ako smo prošli start\n",
    "        if trenutno_mjesto > 39:\n",
    "            trenutno_mjesto = trenutno_mjesto % 40\n",
    "            \n",
    "        #ako smo stali na Chance\n",
    "        if trenutno_mjesto == 7 or trenutno_mjesto == 22 or trenutno_mjesto == 36:\n",
    "            trenutno_mjesto = chance_cards(trenutno_mjesto, trenutne_chance_cards)\n",
    "            \n",
    "        #ako smo stali na Chest\n",
    "        if trenutno_mjesto == 2 or trenutno_mjesto == 17 or trenutno_mjesto == 33:\n",
    "            trenutno_mjesto = chest_cards(trenutno_mjesto, trenutne_chest_cards)\n",
    "        \n",
    "        najcesce_polje_napredno[trenutno_mjesto] = najcesce_polje_napredno[trenutno_mjesto] + 1\n",
    "        \n",
    "najcesce_polje_napredno"
   ]
  },
  {
   "cell_type": "markdown",
   "metadata": {},
   "source": [
    "Stavimo to na graf da vidimo kako izgleda."
   ]
  },
  {
   "cell_type": "code",
   "execution_count": 10,
   "metadata": {},
   "outputs": [
    {
     "data": {
      "image/png": "[encoded data removed]",
      "text/plain": [
       "<Figure size 1080x504 with 1 Axes>"
      ]
     },
     "metadata": {
      "needs_background": "light"
     },
     "output_type": "display_data"
    }
   ],
   "source": [
    "monopoly_board['x-puta'] = najcesce_polje_napredno\n",
    "monopoly_board['Postotak'] = monopoly_board['x-puta']/monopoly_board['x-puta'].sum()*100\n",
    "\n",
    "ax3 = monopoly_board.plot.bar(x='Name', y='Postotak', figsize=(15,7), color=monopoly_board['Color'])"
   ]
  },
  {
   "cell_type": "markdown",
   "metadata": {},
   "source": [
    "Pogledajmo sada samo kraj partije, onda kad je najnapetije, zadnjih 15 bacanja. Onda kada većina ima izgrađene kuće i hotele, gdje je onda najprometnije?"
   ]
  },
  {
   "cell_type": "code",
   "execution_count": 11,
   "metadata": {},
   "outputs": [
    {
     "data": {
      "text/plain": [
       "array([4598, 3287, 2775, 3336, 3644, 4326, 3516, 1586, 3491, 3477, 3442,\n",
       "       4083, 5075, 3467, 4971, 4065, 5250, 3777, 5401, 4377, 5667, 4113,\n",
       "       3167, 4036, 4912, 4358, 4087, 4112, 4256, 3946, 6061, 3984, 3977,\n",
       "       3624, 3754, 3717, 1747, 3169, 3450, 4092])"
      ]
     },
     "execution_count": 11,
     "metadata": {},
     "output_type": "execute_result"
    }
   ],
   "source": [
    "najcesce_polje_endgame = np.empty(40, dtype=np.int32)\n",
    "najcesce_polje_endgame.fill(0)\n",
    "\n",
    "for i in range(10000):\n",
    "    trenutno_mjesto=0\n",
    "    dva_ista=0\n",
    "    trenutne_chest_cards = ['Advance to Go', 'Go to Jail', 'Nista', 'Nista', 'Nista', 'Nista', 'Nista', 'Nista', \n",
    "                            'Nista', 'Nista', 'Nista', 'Nista', 'Nista', 'Nista', 'Nista', 'Nista']\n",
    "    trenutne_chance_cards = ['Advance to Go', 'Illinois', 'St. Charles Place', 'nearest Utility', \n",
    "                              'nearest Railroad', 'Go Back Three', 'Go to Jail', 'Reading Railroad', \n",
    "                              'Boardwalk', 'Nista', 'Nista', 'Nista', 'Nista', 'Nista', 'Nista', 'Nista']\n",
    "    \n",
    "    for j in range(50):\n",
    "        if trenutno_mjesto == 30:\n",
    "            trenutno_mjesto = 10\n",
    "            for k in range(3):\n",
    "                kockica_1 = random.randint(1, 6)\n",
    "                kockica_2 = random.randint(1, 6)\n",
    "                if kockica_1 == kockica_2:\n",
    "                    trenutno_mjesto = trenutno_mjesto + kockica_1 + kockica_2\n",
    "                    if trenutno_mjesto > 39:\n",
    "                        trenutno_mjesto = trenutno_mjesto % 40\n",
    "                    najcesce_polje_endgame[trenutno_mjesto] = najcesce_polje_endgame[trenutno_mjesto] + 1\n",
    "                    break            \n",
    "        kockica_1 = random.randint(1, 6)\n",
    "        kockica_2 = random.randint(1, 6)\n",
    "        if kockica_1 == kockica_2:\n",
    "            dva_ista = dva_ista + 1\n",
    "        else: dva_ista = 0        \n",
    "        if dva_ista == 3:\n",
    "            dva_ista = 0\n",
    "            trenutno_mjesto = 30\n",
    "        else:\n",
    "            trenutno_mjesto = trenutno_mjesto + kockica_1 + kockica_2        \n",
    "        if trenutno_mjesto > 39:\n",
    "            trenutno_mjesto = trenutno_mjesto % 40            \n",
    "        if trenutno_mjesto == 7 or trenutno_mjesto == 22 or trenutno_mjesto == 36:\n",
    "            trenutno_mjesto = chance_cards(trenutno_mjesto, trenutne_chance_cards)            \n",
    "        if trenutno_mjesto == 2 or trenutno_mjesto == 17 or trenutno_mjesto == 33:\n",
    "            trenutno_mjesto = chest_cards(trenutno_mjesto, trenutne_chest_cards)\n",
    "        if j > 34:\n",
    "            najcesce_polje_endgame[trenutno_mjesto] = najcesce_polje_endgame[trenutno_mjesto] + 1\n",
    "        \n",
    "najcesce_polje_endgame"
   ]
  },
  {
   "cell_type": "code",
   "execution_count": 12,
   "metadata": {},
   "outputs": [
    {
     "data": {
      "image/png": "[encoded data removed]",
      "text/plain": [
       "<Figure size 1080x504 with 1 Axes>"
      ]
     },
     "metadata": {
      "needs_background": "light"
     },
     "output_type": "display_data"
    }
   ],
   "source": [
    "monopoly_board['x-puta'] = najcesce_polje_endgame\n",
    "monopoly_board['Postotak'] = monopoly_board['x-puta']/monopoly_board['x-puta'].sum()*100\n",
    "\n",
    "ax3 = monopoly_board.plot.bar(x='Name', y='Postotak', figsize=(15,7), color=monopoly_board['Color'])"
   ]
  },
  {
   "cell_type": "code",
   "execution_count": null,
   "metadata": {},
   "outputs": [],
   "source": []
  }
 ],
 "metadata": {
  "kernelspec": {
   "display_name": "Python 3",
   "language": "python",
   "name": "python3"
  },
  "language_info": {
   "codemirror_mode": {
    "name": "ipython",
    "version": 3
   },
   "file_extension": ".py",
   "mimetype": "text/x-python",
   "name": "python",
   "nbconvert_exporter": "python",
   "pygments_lexer": "ipython3",
   "version": "3.7.7"
  }
 },
 "nbformat": 4,
 "nbformat_minor": 4
}
