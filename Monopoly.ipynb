{
 "cells": [
  {
   "cell_type": "code",
   "execution_count": 1,
   "metadata": {},
   "outputs": [],
   "source": [
    "import random\n",
    "\n",
    "def jedno_bacanje():\n",
    "    kockica_1 = random.randint(1, 6)\n",
    "    kockica_2 = random.randint(1, 6)\n",
    "    return kockica_1 + kockica_2\n",
    "\n",
    "def bacanje_kockica(broj_bacanja):\n",
    "    popis_rezultata_bacanja=[]\n",
    "    for i in range(broj_bacanja):\n",
    "        rezultat_bacanja = jedno_bacanje()\n",
    "        popis_rezultata_bacanja.append(rezultat_bacanja)\n",
    "    return popis_rezultata_bacanja\n",
    "\n",
    "def lista_dobivenih_brojeva_bacanjem(popis_rezultata_bacanja):\n",
    "    lista_dobivenih_bacanja=[]\n",
    "    for i in range(2,13):\n",
    "        lista_dobivenih_bacanja.append(popis_rezultata_bacanja.count(i))\n",
    "    \n",
    "    return lista_dobivenih_bacanja"
   ]
  },
  {
   "cell_type": "code",
   "execution_count": 2,
   "metadata": {},
   "outputs": [
    {
     "data": {
      "text/html": [
       "<div>\n",
       "<style scoped>\n",
       "    .dataframe tbody tr th:only-of-type {\n",
       "        vertical-align: middle;\n",
       "    }\n",
       "\n",
       "    .dataframe tbody tr th {\n",
       "        vertical-align: top;\n",
       "    }\n",
       "\n",
       "    .dataframe thead th {\n",
       "        text-align: right;\n",
       "    }\n",
       "</style>\n",
       "<table border=\"1\" class=\"dataframe\">\n",
       "  <thead>\n",
       "    <tr style=\"text-align: right;\">\n",
       "      <th></th>\n",
       "      <th>Broj dobivenih bacanja</th>\n",
       "      <th>Broj kombinacija</th>\n",
       "      <th>Postotak dobivenih bacanja</th>\n",
       "      <th>Postotak kombinacija</th>\n",
       "    </tr>\n",
       "  </thead>\n",
       "  <tbody>\n",
       "    <tr>\n",
       "      <th>2</th>\n",
       "      <td>281</td>\n",
       "      <td>1</td>\n",
       "      <td>2.81</td>\n",
       "      <td>2.777778</td>\n",
       "    </tr>\n",
       "    <tr>\n",
       "      <th>3</th>\n",
       "      <td>566</td>\n",
       "      <td>2</td>\n",
       "      <td>5.66</td>\n",
       "      <td>5.555556</td>\n",
       "    </tr>\n",
       "    <tr>\n",
       "      <th>4</th>\n",
       "      <td>814</td>\n",
       "      <td>3</td>\n",
       "      <td>8.14</td>\n",
       "      <td>8.333333</td>\n",
       "    </tr>\n",
       "    <tr>\n",
       "      <th>5</th>\n",
       "      <td>1024</td>\n",
       "      <td>4</td>\n",
       "      <td>10.24</td>\n",
       "      <td>11.111111</td>\n",
       "    </tr>\n",
       "    <tr>\n",
       "      <th>6</th>\n",
       "      <td>1435</td>\n",
       "      <td>5</td>\n",
       "      <td>14.35</td>\n",
       "      <td>13.888889</td>\n",
       "    </tr>\n",
       "    <tr>\n",
       "      <th>7</th>\n",
       "      <td>1648</td>\n",
       "      <td>6</td>\n",
       "      <td>16.48</td>\n",
       "      <td>16.666667</td>\n",
       "    </tr>\n",
       "    <tr>\n",
       "      <th>8</th>\n",
       "      <td>1360</td>\n",
       "      <td>5</td>\n",
       "      <td>13.60</td>\n",
       "      <td>13.888889</td>\n",
       "    </tr>\n",
       "    <tr>\n",
       "      <th>9</th>\n",
       "      <td>1148</td>\n",
       "      <td>4</td>\n",
       "      <td>11.48</td>\n",
       "      <td>11.111111</td>\n",
       "    </tr>\n",
       "    <tr>\n",
       "      <th>10</th>\n",
       "      <td>866</td>\n",
       "      <td>3</td>\n",
       "      <td>8.66</td>\n",
       "      <td>8.333333</td>\n",
       "    </tr>\n",
       "    <tr>\n",
       "      <th>11</th>\n",
       "      <td>583</td>\n",
       "      <td>2</td>\n",
       "      <td>5.83</td>\n",
       "      <td>5.555556</td>\n",
       "    </tr>\n",
       "    <tr>\n",
       "      <th>12</th>\n",
       "      <td>275</td>\n",
       "      <td>1</td>\n",
       "      <td>2.75</td>\n",
       "      <td>2.777778</td>\n",
       "    </tr>\n",
       "  </tbody>\n",
       "</table>\n",
       "</div>"
      ],
      "text/plain": [
       "    Broj dobivenih bacanja  Broj kombinacija  Postotak dobivenih bacanja  \\\n",
       "2                      281                 1                        2.81   \n",
       "3                      566                 2                        5.66   \n",
       "4                      814                 3                        8.14   \n",
       "5                     1024                 4                       10.24   \n",
       "6                     1435                 5                       14.35   \n",
       "7                     1648                 6                       16.48   \n",
       "8                     1360                 5                       13.60   \n",
       "9                     1148                 4                       11.48   \n",
       "10                     866                 3                        8.66   \n",
       "11                     583                 2                        5.83   \n",
       "12                     275                 1                        2.75   \n",
       "\n",
       "    Postotak kombinacija  \n",
       "2               2.777778  \n",
       "3               5.555556  \n",
       "4               8.333333  \n",
       "5              11.111111  \n",
       "6              13.888889  \n",
       "7              16.666667  \n",
       "8              13.888889  \n",
       "9              11.111111  \n",
       "10              8.333333  \n",
       "11              5.555556  \n",
       "12              2.777778  "
      ]
     },
     "execution_count": 2,
     "metadata": {},
     "output_type": "execute_result"
    }
   ],
   "source": [
    "import pandas as pd\n",
    "\n",
    "tablica_bacanja_kockica = pd.DataFrame(index=['2', '3', '4', '5', '6', '7', '8', '9', '10', '11', '12'])\n",
    "tablica_bacanja_kockica['Broj dobivenih bacanja'] = lista_dobivenih_brojeva_bacanjem(bacanje_kockica(10000))\n",
    "tablica_bacanja_kockica['Broj kombinacija'] = [1, 2, 3, 4, 5, 6, 5, 4, 3, 2, 1]\n",
    "tablica_bacanja_kockica['Postotak dobivenih bacanja'] = tablica_bacanja_kockica['Broj dobivenih bacanja']/100\n",
    "tablica_bacanja_kockica['Postotak kombinacija'] = tablica_bacanja_kockica['Broj kombinacija']/36*100\n",
    "tablica_bacanja_kockica"
   ]
  },
  {
   "cell_type": "code",
   "execution_count": 3,
   "metadata": {},
   "outputs": [
    {
     "data": {
      "image/png": "[encoded data removed]",
      "text/plain": [
       "<Figure size 864x360 with 2 Axes>"
      ]
     },
     "metadata": {
      "needs_background": "light"
     },
     "output_type": "display_data"
    }
   ],
   "source": [
    "import matplotlib.pyplot as plt\n",
    "\n",
    "fig, (ax1, ax2) = plt.subplots(1, 2)\n",
    "ax1.set_title('Postotak dobivenih bacanja')\n",
    "ax2.set_title('Postotak kombinacija')\n",
    "ax1.set_xlabel('Broj na kockici')\n",
    "ax2.set_xlabel('Broj na kockici')\n",
    "ax1.set_ylabel('Postotak')\n",
    "ax2.set_ylabel('Postotak')\n",
    "tablica_bacanja_kockica['Postotak dobivenih bacanja'].plot(kind='bar', ax=ax1, figsize=(12,5))\n",
    "tablica_bacanja_kockica['Postotak kombinacija'].plot(kind='bar', ax=ax2, figsize=(12,5))\n",
    "plt.show()\n"
   ]
  },
  {
   "cell_type": "code",
   "execution_count": 4,
   "metadata": {},
   "outputs": [],
   "source": [
    "monopoly_board = pd.read_csv('monopoly_board.csv', encoding='utf-8')"
   ]
  },
  {
   "cell_type": "code",
   "execution_count": 5,
   "metadata": {},
   "outputs": [],
   "source": [
    "del monopoly_board['Space'], monopoly_board['Position'], monopoly_board['Price'], monopoly_board['PriceBuild'], monopoly_board['Rent'], monopoly_board['RentBuild1'], monopoly_board['RentBuild2'], monopoly_board['RentBuild3'], monopoly_board['RentBuild4'], monopoly_board['RentBuild5'], monopoly_board['Number']"
   ]
  },
  {
   "cell_type": "markdown",
   "metadata": {},
   "source": [
    "Recimo 40 bacanja za partiju od četvero ljudi"
   ]
  },
  {
   "cell_type": "code",
   "execution_count": 6,
   "metadata": {},
   "outputs": [],
   "source": [
    "lista_koji_put_na_polju=[]\n",
    "for i in range(40):\n",
    "    lista_koji_put_na_polju.append(0)"
   ]
  },
  {
   "cell_type": "code",
   "execution_count": 7,
   "metadata": {},
   "outputs": [],
   "source": [
    "trenutno_mjesto=0\n",
    "for i in range(40):\n",
    "    trenutno_mjesto = trenutno_mjesto+jedno_bacanje()\n",
    "    if trenutno_mjesto>39:\n",
    "        trenutno_mjesto % 39\n",
    "    lista_koji_put_na_polju[4] + 1"
   ]
  },
  {
   "cell_type": "markdown",
   "metadata": {},
   "source": [
    "Jedna partija je odprilike 40 bacanja jednog igrača. Ponovimo to 1000 puta da vidimo na koje bolje bi najčešće stali igrači."
   ]
  },
  {
   "cell_type": "code",
   "execution_count": 8,
   "metadata": {},
   "outputs": [],
   "source": [
    "import numpy as np\n",
    "\n",
    "najcesce_polje = np.empty(40, dtype=np.int32)\n",
    "najcesce_polje.fill(0)\n",
    "\n",
    "for i in range(10000):\n",
    "    trenutno_mjesto=0\n",
    "    for j in range(40):\n",
    "        trenutno_mjesto = trenutno_mjesto+jedno_bacanje()\n",
    "        if trenutno_mjesto>39:\n",
    "            trenutno_mjesto = trenutno_mjesto % 40\n",
    "        najcesce_polje[trenutno_mjesto] = najcesce_polje[trenutno_mjesto] + 1\n"
   ]
  },
  {
   "cell_type": "code",
   "execution_count": 9,
   "metadata": {},
   "outputs": [
    {
     "data": {
      "text/plain": [
       "array([ 9408,  9261,  9625,  9873,  9970, 10528, 10541, 11056, 10816,\n",
       "       10513, 10546, 10217, 10219, 10153, 10218, 10372, 10395, 10306,\n",
       "       10211, 10157, 10043, 10025, 10089,  9912,  9930,  9965,  9800,\n",
       "        9896,  9844,  9712,  9811,  9766,  9931,  9671,  9477,  9653,\n",
       "        9573,  9564,  9300,  9653])"
      ]
     },
     "execution_count": 9,
     "metadata": {},
     "output_type": "execute_result"
    }
   ],
   "source": [
    "najcesce_polje"
   ]
  },
  {
   "cell_type": "markdown",
   "metadata": {},
   "source": [
    "No, u monopolyju postoje različiti načini za doć na neko polje osim random bacanja kockica, pa uzmimo sad i to u obzir."
   ]
  },
  {
   "cell_type": "code",
   "execution_count": 10,
   "metadata": {},
   "outputs": [],
   "source": [
    "def chance_cards(pozicija):\n",
    "    random_broj = random.randint(1, 16)\n",
    "    \n",
    "    #Advance to \"Go\"\n",
    "    if random_broj == 1:\n",
    "        pozicija = 0\n",
    "    #Advance to Illinois Ave.\n",
    "    if random_broj == 2:\n",
    "        pozicija = 24\n",
    "    #Advance to St. Charles Place\n",
    "    if random_broj == 3:\n",
    "        pozicija = 11\n",
    "    #Advance token to nearest Utility\n",
    "    if random_broj == 4:\n",
    "        if pozicija == 7: pozicija = 15\n",
    "        if pozicija == 22: pozicija = 25\n",
    "        if pozicija == 36: pozicija = 5\n",
    "    #Advance token to the nearest Railroad\n",
    "    if random_broj == 5:\n",
    "        if pozicija == 7: pozicija = 12\n",
    "        if pozicija == 22: pozicija = 28\n",
    "    #Go Back Three {3} Spaces\n",
    "    if random_broj == 6:\n",
    "        pozicija = pozicija - 3\n",
    "    #Go to Jail. Go directly to Jail\n",
    "    if random_broj == 7:\n",
    "        pozicija = 30\n",
    "    #Take a trip to Reading Railroad\n",
    "    if random_broj == 8:\n",
    "        pozicija = 5\n",
    "    #Take a walk on the Boardwalk. Advance token to Boardwalk.\n",
    "    if random_broj == 9:\n",
    "        pozicija = 39\n",
    "    \n",
    "    return pozicija\n",
    "\n",
    "def chest_cards(pozicija):\n",
    "    random_broj = random.randint(1, 16)\n",
    "    \n",
    "    #Advance to \"Go\"\n",
    "    if random_broj == 1:\n",
    "        pozicija = 0\n",
    "    #Go to Jail\n",
    "    if random_broj == 2:\n",
    "        pozicija = 30\n",
    "    \n",
    "    return pozicija            "
   ]
  },
  {
   "cell_type": "code",
   "execution_count": 11,
   "metadata": {},
   "outputs": [
    {
     "data": {
      "text/plain": [
       "array([15085, 10344,  9398, 10958, 12154, 14886, 12466,  5678, 12447,\n",
       "       12591, 12141, 14218, 14176, 11809, 13517, 13661, 14851, 12401,\n",
       "       15395, 14910, 15246, 13832,  7333, 13409, 16089, 14380, 13556,\n",
       "       13479, 13729, 12960, 19803, 13242, 12850, 11762, 12043, 11680,\n",
       "        5667, 10552, 10613, 12806])"
      ]
     },
     "execution_count": 11,
     "metadata": {},
     "output_type": "execute_result"
    }
   ],
   "source": [
    "najcesce_polje_napredno = np.empty(40, dtype=np.int32)\n",
    "najcesce_polje_napredno.fill(0)\n",
    "\n",
    "for i in range(10000):\n",
    "    trenutno_mjesto=0\n",
    "    dva_ista=0\n",
    "    for j in range(50):\n",
    "        #ako smo završili u zatvoru, krećemo dalje s drugog mjesta\n",
    "        if trenutno_mjesto == 30:\n",
    "            trenutno_mjesto = 10\n",
    "            #također, češće ćemo iz zatvora izać sa parnim brojevima, imamo 3 bacanja\n",
    "            for k in range(3):\n",
    "                kockica_1 = random.randint(1, 6)\n",
    "                kockica_2 = random.randint(1, 6)\n",
    "                if kockica_1 == kockica_2:\n",
    "                    trenutno_mjesto = trenutno_mjesto + kockica_1 + kockica_2\n",
    "                    if trenutno_mjesto > 39:\n",
    "                        trenutno_mjesto = trenutno_mjesto % 40\n",
    "                    najcesce_polje_napredno[trenutno_mjesto] = najcesce_polje_napredno[trenutno_mjesto] + 1\n",
    "                    break\n",
    "            \n",
    "        #bacanje kockica, 3 puta za redom 2 ista broja, idemo u zatvor\n",
    "        kockica_1 = random.randint(1, 6)\n",
    "        kockica_2 = random.randint(1, 6)\n",
    "        if kockica_1 == kockica_2:\n",
    "            dva_ista = dva_ista + 1\n",
    "        else: dva_ista = 0\n",
    "        \n",
    "        if dva_ista == 3:\n",
    "            dva_ista = 0\n",
    "            trenutno_mjesto = 30\n",
    "        else:\n",
    "            #pomičemo se onoliko koliko dobijemo na bacanju\n",
    "            trenutno_mjesto = trenutno_mjesto + kockica_1 + kockica_2\n",
    "        \n",
    "        #ako smo prošli start\n",
    "        if trenutno_mjesto > 39:\n",
    "            trenutno_mjesto = trenutno_mjesto % 40\n",
    "            \n",
    "        #ako smo stali na Chance\n",
    "        if trenutno_mjesto == 7 or trenutno_mjesto == 22 or trenutno_mjesto == 36:\n",
    "            trenutno_mjesto = chance_cards(trenutno_mjesto)\n",
    "            \n",
    "        #ako smo stali na Chest\n",
    "        if trenutno_mjesto == 2 or trenutno_mjesto == 17 or trenutno_mjesto == 33:\n",
    "            trenutno_mjesto = chest_cards(trenutno_mjesto)\n",
    "        \n",
    "        najcesce_polje_napredno[trenutno_mjesto] = najcesce_polje_napredno[trenutno_mjesto] + 1\n",
    "        \n",
    "najcesce_polje_napredno"
   ]
  },
  {
   "cell_type": "code",
   "execution_count": 12,
   "metadata": {},
   "outputs": [
    {
     "data": {
      "image/png": "[encoded data removed]",
      "text/plain": [
       "<Figure size 1080x504 with 1 Axes>"
      ]
     },
     "metadata": {
      "needs_background": "light"
     },
     "output_type": "display_data"
    }
   ],
   "source": [
    "monopoly_board['x-puta'] = najcesce_polje_napredno\n",
    "monopoly_board['Postotak'] = monopoly_board['x-puta']/monopoly_board['x-puta'].sum()*100\n",
    "monopoly_board['Color'] = monopoly_board['Color'].replace('None', 'lightgray')\n",
    "\n",
    "ax3 = monopoly_board.plot.bar(x='Name', y='Postotak', figsize=(15,7), color=monopoly_board['Color'])"
   ]
  },
  {
   "cell_type": "markdown",
   "metadata": {},
   "source": [
    "Na polju 30 (Jail) nismo nikad na kraju kruga, ali ovako piše da razlikujemo Jail i Free Pass."
   ]
  },
  {
   "cell_type": "code",
   "execution_count": null,
   "metadata": {},
   "outputs": [],
   "source": []
  }
 ],
 "metadata": {
  "kernelspec": {
   "display_name": "Python 3",
   "language": "python",
   "name": "python3"
  },
  "language_info": {
   "codemirror_mode": {
    "name": "ipython",
    "version": 3
   },
   "file_extension": ".py",
   "mimetype": "text/x-python",
   "name": "python",
   "nbconvert_exporter": "python",
   "pygments_lexer": "ipython3",
   "version": "3.7.7"
  }
 },
 "nbformat": 4,
 "nbformat_minor": 4
}
